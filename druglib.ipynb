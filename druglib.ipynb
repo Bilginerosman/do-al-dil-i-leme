{
 "cells": [
  {
   "cell_type": "code",
   "execution_count": 1,
   "id": "5cdf1a2b",
   "metadata": {},
   "outputs": [],
   "source": [
    "import pandas as pd\n",
    "import numpy as np"
   ]
  },
  {
   "cell_type": "code",
   "execution_count": 2,
   "id": "1418ccb5",
   "metadata": {},
   "outputs": [],
   "source": [
    "test = pd.read_csv('drugLibTest_raw.tsv', sep='\\t') # Test verilerinin okunması\n",
    "train = pd.read_csv('drugLibTrain_raw.tsv', sep='\\t') # Eğitim verilerinin okunması"
   ]
  },
  {
   "cell_type": "code",
   "execution_count": 3,
   "id": "f3cf9ce3",
   "metadata": {},
   "outputs": [
    {
     "data": {
      "text/html": [
       "<div>\n",
       "<style scoped>\n",
       "    .dataframe tbody tr th:only-of-type {\n",
       "        vertical-align: middle;\n",
       "    }\n",
       "\n",
       "    .dataframe tbody tr th {\n",
       "        vertical-align: top;\n",
       "    }\n",
       "\n",
       "    .dataframe thead th {\n",
       "        text-align: right;\n",
       "    }\n",
       "</style>\n",
       "<table border=\"1\" class=\"dataframe\">\n",
       "  <thead>\n",
       "    <tr style=\"text-align: right;\">\n",
       "      <th></th>\n",
       "      <th>Unnamed: 0</th>\n",
       "      <th>urlDrugName</th>\n",
       "      <th>rating</th>\n",
       "      <th>effectiveness</th>\n",
       "      <th>sideEffects</th>\n",
       "      <th>condition</th>\n",
       "      <th>benefitsReview</th>\n",
       "      <th>sideEffectsReview</th>\n",
       "      <th>commentsReview</th>\n",
       "    </tr>\n",
       "  </thead>\n",
       "  <tbody>\n",
       "    <tr>\n",
       "      <th>0</th>\n",
       "      <td>1366</td>\n",
       "      <td>biaxin</td>\n",
       "      <td>9</td>\n",
       "      <td>Considerably Effective</td>\n",
       "      <td>Mild Side Effects</td>\n",
       "      <td>sinus infection</td>\n",
       "      <td>The antibiotic may have destroyed bacteria cau...</td>\n",
       "      <td>Some back pain, some nauseau.</td>\n",
       "      <td>Took the antibiotics for 14 days. Sinus infect...</td>\n",
       "    </tr>\n",
       "    <tr>\n",
       "      <th>1</th>\n",
       "      <td>3724</td>\n",
       "      <td>lamictal</td>\n",
       "      <td>9</td>\n",
       "      <td>Highly Effective</td>\n",
       "      <td>Mild Side Effects</td>\n",
       "      <td>bipolar disorder</td>\n",
       "      <td>Lamictal stabilized my serious mood swings. On...</td>\n",
       "      <td>Drowsiness, a bit of mental numbness. If you t...</td>\n",
       "      <td>Severe mood swings between hypomania and depre...</td>\n",
       "    </tr>\n",
       "    <tr>\n",
       "      <th>2</th>\n",
       "      <td>3824</td>\n",
       "      <td>depakene</td>\n",
       "      <td>4</td>\n",
       "      <td>Moderately Effective</td>\n",
       "      <td>Severe Side Effects</td>\n",
       "      <td>bipolar disorder</td>\n",
       "      <td>Initial benefits were comparable to the brand ...</td>\n",
       "      <td>Depakene has a very thin coating, which caused...</td>\n",
       "      <td>Depakote was prescribed to me by a Kaiser psyc...</td>\n",
       "    </tr>\n",
       "    <tr>\n",
       "      <th>3</th>\n",
       "      <td>969</td>\n",
       "      <td>sarafem</td>\n",
       "      <td>10</td>\n",
       "      <td>Highly Effective</td>\n",
       "      <td>No Side Effects</td>\n",
       "      <td>bi-polar / anxiety</td>\n",
       "      <td>It controlls my mood swings. It helps me think...</td>\n",
       "      <td>I didnt really notice any side effects.</td>\n",
       "      <td>This drug may not be for everyone but its wond...</td>\n",
       "    </tr>\n",
       "    <tr>\n",
       "      <th>4</th>\n",
       "      <td>696</td>\n",
       "      <td>accutane</td>\n",
       "      <td>10</td>\n",
       "      <td>Highly Effective</td>\n",
       "      <td>Mild Side Effects</td>\n",
       "      <td>nodular acne</td>\n",
       "      <td>Within one week of treatment superficial acne ...</td>\n",
       "      <td>Side effects included moderate to severe dry s...</td>\n",
       "      <td>Drug was taken in gelatin tablet at 0.5 mg per...</td>\n",
       "    </tr>\n",
       "  </tbody>\n",
       "</table>\n",
       "</div>"
      ],
      "text/plain": [
       "   Unnamed: 0 urlDrugName  rating           effectiveness  \\\n",
       "0        1366      biaxin       9  Considerably Effective   \n",
       "1        3724    lamictal       9        Highly Effective   \n",
       "2        3824    depakene       4    Moderately Effective   \n",
       "3         969     sarafem      10        Highly Effective   \n",
       "4         696    accutane      10        Highly Effective   \n",
       "\n",
       "           sideEffects           condition  \\\n",
       "0    Mild Side Effects     sinus infection   \n",
       "1    Mild Side Effects    bipolar disorder   \n",
       "2  Severe Side Effects    bipolar disorder   \n",
       "3      No Side Effects  bi-polar / anxiety   \n",
       "4    Mild Side Effects        nodular acne   \n",
       "\n",
       "                                      benefitsReview  \\\n",
       "0  The antibiotic may have destroyed bacteria cau...   \n",
       "1  Lamictal stabilized my serious mood swings. On...   \n",
       "2  Initial benefits were comparable to the brand ...   \n",
       "3  It controlls my mood swings. It helps me think...   \n",
       "4  Within one week of treatment superficial acne ...   \n",
       "\n",
       "                                   sideEffectsReview  \\\n",
       "0                      Some back pain, some nauseau.   \n",
       "1  Drowsiness, a bit of mental numbness. If you t...   \n",
       "2  Depakene has a very thin coating, which caused...   \n",
       "3            I didnt really notice any side effects.   \n",
       "4  Side effects included moderate to severe dry s...   \n",
       "\n",
       "                                      commentsReview  \n",
       "0  Took the antibiotics for 14 days. Sinus infect...  \n",
       "1  Severe mood swings between hypomania and depre...  \n",
       "2  Depakote was prescribed to me by a Kaiser psyc...  \n",
       "3  This drug may not be for everyone but its wond...  \n",
       "4  Drug was taken in gelatin tablet at 0.5 mg per...  "
      ]
     },
     "execution_count": 3,
     "metadata": {},
     "output_type": "execute_result"
    }
   ],
   "source": [
    "test.head()"
   ]
  },
  {
   "cell_type": "code",
   "execution_count": 4,
   "id": "17804203",
   "metadata": {},
   "outputs": [
    {
     "data": {
      "text/html": [
       "<div>\n",
       "<style scoped>\n",
       "    .dataframe tbody tr th:only-of-type {\n",
       "        vertical-align: middle;\n",
       "    }\n",
       "\n",
       "    .dataframe tbody tr th {\n",
       "        vertical-align: top;\n",
       "    }\n",
       "\n",
       "    .dataframe thead th {\n",
       "        text-align: right;\n",
       "    }\n",
       "</style>\n",
       "<table border=\"1\" class=\"dataframe\">\n",
       "  <thead>\n",
       "    <tr style=\"text-align: right;\">\n",
       "      <th></th>\n",
       "      <th>Unnamed: 0</th>\n",
       "      <th>urlDrugName</th>\n",
       "      <th>rating</th>\n",
       "      <th>effectiveness</th>\n",
       "      <th>sideEffects</th>\n",
       "      <th>condition</th>\n",
       "      <th>benefitsReview</th>\n",
       "      <th>sideEffectsReview</th>\n",
       "      <th>commentsReview</th>\n",
       "    </tr>\n",
       "  </thead>\n",
       "  <tbody>\n",
       "    <tr>\n",
       "      <th>0</th>\n",
       "      <td>2202</td>\n",
       "      <td>enalapril</td>\n",
       "      <td>4</td>\n",
       "      <td>Highly Effective</td>\n",
       "      <td>Mild Side Effects</td>\n",
       "      <td>management of congestive heart failure</td>\n",
       "      <td>slowed the progression of left ventricular dys...</td>\n",
       "      <td>cough, hypotension , proteinuria, impotence , ...</td>\n",
       "      <td>monitor blood pressure , weight and asses for ...</td>\n",
       "    </tr>\n",
       "    <tr>\n",
       "      <th>1</th>\n",
       "      <td>3117</td>\n",
       "      <td>ortho-tri-cyclen</td>\n",
       "      <td>1</td>\n",
       "      <td>Highly Effective</td>\n",
       "      <td>Severe Side Effects</td>\n",
       "      <td>birth prevention</td>\n",
       "      <td>Although this type of birth control has more c...</td>\n",
       "      <td>Heavy Cycle, Cramps, Hot Flashes, Fatigue, Lon...</td>\n",
       "      <td>I Hate This Birth Control, I Would Not Suggest...</td>\n",
       "    </tr>\n",
       "    <tr>\n",
       "      <th>2</th>\n",
       "      <td>1146</td>\n",
       "      <td>ponstel</td>\n",
       "      <td>10</td>\n",
       "      <td>Highly Effective</td>\n",
       "      <td>No Side Effects</td>\n",
       "      <td>menstrual cramps</td>\n",
       "      <td>I was used to having cramps so badly that they...</td>\n",
       "      <td>Heavier bleeding and clotting than normal.</td>\n",
       "      <td>I took 2 pills at the onset of my menstrual cr...</td>\n",
       "    </tr>\n",
       "    <tr>\n",
       "      <th>3</th>\n",
       "      <td>3947</td>\n",
       "      <td>prilosec</td>\n",
       "      <td>3</td>\n",
       "      <td>Marginally Effective</td>\n",
       "      <td>Mild Side Effects</td>\n",
       "      <td>acid reflux</td>\n",
       "      <td>The acid reflux went away for a few months aft...</td>\n",
       "      <td>Constipation, dry mouth and some mild dizzines...</td>\n",
       "      <td>I was given Prilosec prescription at a dose of...</td>\n",
       "    </tr>\n",
       "    <tr>\n",
       "      <th>4</th>\n",
       "      <td>1951</td>\n",
       "      <td>lyrica</td>\n",
       "      <td>2</td>\n",
       "      <td>Marginally Effective</td>\n",
       "      <td>Severe Side Effects</td>\n",
       "      <td>fibromyalgia</td>\n",
       "      <td>I think that the Lyrica was starting to help w...</td>\n",
       "      <td>I felt extremely drugged and dopey.  Could not...</td>\n",
       "      <td>See above</td>\n",
       "    </tr>\n",
       "  </tbody>\n",
       "</table>\n",
       "</div>"
      ],
      "text/plain": [
       "   Unnamed: 0       urlDrugName  rating         effectiveness  \\\n",
       "0        2202         enalapril       4      Highly Effective   \n",
       "1        3117  ortho-tri-cyclen       1      Highly Effective   \n",
       "2        1146           ponstel      10      Highly Effective   \n",
       "3        3947          prilosec       3  Marginally Effective   \n",
       "4        1951            lyrica       2  Marginally Effective   \n",
       "\n",
       "           sideEffects                               condition  \\\n",
       "0    Mild Side Effects  management of congestive heart failure   \n",
       "1  Severe Side Effects                        birth prevention   \n",
       "2      No Side Effects                        menstrual cramps   \n",
       "3    Mild Side Effects                             acid reflux   \n",
       "4  Severe Side Effects                            fibromyalgia   \n",
       "\n",
       "                                      benefitsReview  \\\n",
       "0  slowed the progression of left ventricular dys...   \n",
       "1  Although this type of birth control has more c...   \n",
       "2  I was used to having cramps so badly that they...   \n",
       "3  The acid reflux went away for a few months aft...   \n",
       "4  I think that the Lyrica was starting to help w...   \n",
       "\n",
       "                                   sideEffectsReview  \\\n",
       "0  cough, hypotension , proteinuria, impotence , ...   \n",
       "1  Heavy Cycle, Cramps, Hot Flashes, Fatigue, Lon...   \n",
       "2         Heavier bleeding and clotting than normal.   \n",
       "3  Constipation, dry mouth and some mild dizzines...   \n",
       "4  I felt extremely drugged and dopey.  Could not...   \n",
       "\n",
       "                                      commentsReview  \n",
       "0  monitor blood pressure , weight and asses for ...  \n",
       "1  I Hate This Birth Control, I Would Not Suggest...  \n",
       "2  I took 2 pills at the onset of my menstrual cr...  \n",
       "3  I was given Prilosec prescription at a dose of...  \n",
       "4                                          See above  "
      ]
     },
     "execution_count": 4,
     "metadata": {},
     "output_type": "execute_result"
    }
   ],
   "source": [
    "train.head()"
   ]
  },
  {
   "cell_type": "code",
   "execution_count": 5,
   "id": "5750a4cd",
   "metadata": {},
   "outputs": [],
   "source": [
    "df = test.append(train, ignore_index=True, sort=False) # Test ve Eğitim verilerinin birleştirilmesi"
   ]
  },
  {
   "cell_type": "code",
   "execution_count": 6,
   "id": "ca1ae1ec",
   "metadata": {},
   "outputs": [],
   "source": [
    "df = df.drop(['Unnamed: 0'], axis = 1) # Index sütununun kaldırılması"
   ]
  },
  {
   "cell_type": "code",
   "execution_count": 7,
   "id": "1c93f635",
   "metadata": {},
   "outputs": [],
   "source": [
    "df['text'] = df.select_dtypes(exclude=['int64']).apply(lambda row: ' '.join(row.values.astype(str)), axis=1) # Tüm metinlerin birleştirilmesi"
   ]
  },
  {
   "cell_type": "code",
   "execution_count": 8,
   "id": "e359b5a0",
   "metadata": {},
   "outputs": [],
   "source": [
    "df.rating = df.rating.apply(lambda x: 0 if x < 6 else 1) # Rating verilerinin yeniden etiketlenmesi"
   ]
  },
  {
   "cell_type": "code",
   "execution_count": 9,
   "id": "3289a559",
   "metadata": {},
   "outputs": [
    {
     "data": {
      "text/html": [
       "<div>\n",
       "<style scoped>\n",
       "    .dataframe tbody tr th:only-of-type {\n",
       "        vertical-align: middle;\n",
       "    }\n",
       "\n",
       "    .dataframe tbody tr th {\n",
       "        vertical-align: top;\n",
       "    }\n",
       "\n",
       "    .dataframe thead th {\n",
       "        text-align: right;\n",
       "    }\n",
       "</style>\n",
       "<table border=\"1\" class=\"dataframe\">\n",
       "  <thead>\n",
       "    <tr style=\"text-align: right;\">\n",
       "      <th></th>\n",
       "      <th>urlDrugName</th>\n",
       "      <th>rating</th>\n",
       "      <th>effectiveness</th>\n",
       "      <th>sideEffects</th>\n",
       "      <th>condition</th>\n",
       "      <th>benefitsReview</th>\n",
       "      <th>sideEffectsReview</th>\n",
       "      <th>commentsReview</th>\n",
       "      <th>text</th>\n",
       "    </tr>\n",
       "  </thead>\n",
       "  <tbody>\n",
       "    <tr>\n",
       "      <th>0</th>\n",
       "      <td>biaxin</td>\n",
       "      <td>1</td>\n",
       "      <td>Considerably Effective</td>\n",
       "      <td>Mild Side Effects</td>\n",
       "      <td>sinus infection</td>\n",
       "      <td>The antibiotic may have destroyed bacteria cau...</td>\n",
       "      <td>Some back pain, some nauseau.</td>\n",
       "      <td>Took the antibiotics for 14 days. Sinus infect...</td>\n",
       "      <td>biaxin Considerably Effective Mild Side Effect...</td>\n",
       "    </tr>\n",
       "    <tr>\n",
       "      <th>1</th>\n",
       "      <td>lamictal</td>\n",
       "      <td>1</td>\n",
       "      <td>Highly Effective</td>\n",
       "      <td>Mild Side Effects</td>\n",
       "      <td>bipolar disorder</td>\n",
       "      <td>Lamictal stabilized my serious mood swings. On...</td>\n",
       "      <td>Drowsiness, a bit of mental numbness. If you t...</td>\n",
       "      <td>Severe mood swings between hypomania and depre...</td>\n",
       "      <td>lamictal Highly Effective Mild Side Effects bi...</td>\n",
       "    </tr>\n",
       "    <tr>\n",
       "      <th>2</th>\n",
       "      <td>depakene</td>\n",
       "      <td>0</td>\n",
       "      <td>Moderately Effective</td>\n",
       "      <td>Severe Side Effects</td>\n",
       "      <td>bipolar disorder</td>\n",
       "      <td>Initial benefits were comparable to the brand ...</td>\n",
       "      <td>Depakene has a very thin coating, which caused...</td>\n",
       "      <td>Depakote was prescribed to me by a Kaiser psyc...</td>\n",
       "      <td>depakene Moderately Effective Severe Side Effe...</td>\n",
       "    </tr>\n",
       "    <tr>\n",
       "      <th>3</th>\n",
       "      <td>sarafem</td>\n",
       "      <td>1</td>\n",
       "      <td>Highly Effective</td>\n",
       "      <td>No Side Effects</td>\n",
       "      <td>bi-polar / anxiety</td>\n",
       "      <td>It controlls my mood swings. It helps me think...</td>\n",
       "      <td>I didnt really notice any side effects.</td>\n",
       "      <td>This drug may not be for everyone but its wond...</td>\n",
       "      <td>sarafem Highly Effective No Side Effects bi-po...</td>\n",
       "    </tr>\n",
       "    <tr>\n",
       "      <th>4</th>\n",
       "      <td>accutane</td>\n",
       "      <td>1</td>\n",
       "      <td>Highly Effective</td>\n",
       "      <td>Mild Side Effects</td>\n",
       "      <td>nodular acne</td>\n",
       "      <td>Within one week of treatment superficial acne ...</td>\n",
       "      <td>Side effects included moderate to severe dry s...</td>\n",
       "      <td>Drug was taken in gelatin tablet at 0.5 mg per...</td>\n",
       "      <td>accutane Highly Effective Mild Side Effects no...</td>\n",
       "    </tr>\n",
       "  </tbody>\n",
       "</table>\n",
       "</div>"
      ],
      "text/plain": [
       "  urlDrugName  rating           effectiveness          sideEffects  \\\n",
       "0      biaxin       1  Considerably Effective    Mild Side Effects   \n",
       "1    lamictal       1        Highly Effective    Mild Side Effects   \n",
       "2    depakene       0    Moderately Effective  Severe Side Effects   \n",
       "3     sarafem       1        Highly Effective      No Side Effects   \n",
       "4    accutane       1        Highly Effective    Mild Side Effects   \n",
       "\n",
       "            condition                                     benefitsReview  \\\n",
       "0     sinus infection  The antibiotic may have destroyed bacteria cau...   \n",
       "1    bipolar disorder  Lamictal stabilized my serious mood swings. On...   \n",
       "2    bipolar disorder  Initial benefits were comparable to the brand ...   \n",
       "3  bi-polar / anxiety  It controlls my mood swings. It helps me think...   \n",
       "4        nodular acne  Within one week of treatment superficial acne ...   \n",
       "\n",
       "                                   sideEffectsReview  \\\n",
       "0                      Some back pain, some nauseau.   \n",
       "1  Drowsiness, a bit of mental numbness. If you t...   \n",
       "2  Depakene has a very thin coating, which caused...   \n",
       "3            I didnt really notice any side effects.   \n",
       "4  Side effects included moderate to severe dry s...   \n",
       "\n",
       "                                      commentsReview  \\\n",
       "0  Took the antibiotics for 14 days. Sinus infect...   \n",
       "1  Severe mood swings between hypomania and depre...   \n",
       "2  Depakote was prescribed to me by a Kaiser psyc...   \n",
       "3  This drug may not be for everyone but its wond...   \n",
       "4  Drug was taken in gelatin tablet at 0.5 mg per...   \n",
       "\n",
       "                                                text  \n",
       "0  biaxin Considerably Effective Mild Side Effect...  \n",
       "1  lamictal Highly Effective Mild Side Effects bi...  \n",
       "2  depakene Moderately Effective Severe Side Effe...  \n",
       "3  sarafem Highly Effective No Side Effects bi-po...  \n",
       "4  accutane Highly Effective Mild Side Effects no...  "
      ]
     },
     "execution_count": 9,
     "metadata": {},
     "output_type": "execute_result"
    }
   ],
   "source": [
    "df.head()"
   ]
  },
  {
   "cell_type": "code",
   "execution_count": 10,
   "id": "b3f3a64e",
   "metadata": {},
   "outputs": [
    {
     "data": {
      "text/plain": [
       "1    3015\n",
       "0    1128\n",
       "Name: rating, dtype: int64"
      ]
     },
     "execution_count": 10,
     "metadata": {},
     "output_type": "execute_result"
    }
   ],
   "source": [
    "df.rating.value_counts() # Pozitif ve Negatif verilerin dağılımı"
   ]
  },
  {
   "cell_type": "code",
   "execution_count": 11,
   "id": "3cba9fc9",
   "metadata": {},
   "outputs": [
    {
     "name": "stdout",
     "output_type": "stream",
     "text": [
      "<class 'pandas.core.frame.DataFrame'>\n",
      "RangeIndex: 4143 entries, 0 to 4142\n",
      "Data columns (total 9 columns):\n",
      " #   Column             Non-Null Count  Dtype \n",
      "---  ------             --------------  ----- \n",
      " 0   urlDrugName        4143 non-null   object\n",
      " 1   rating             4143 non-null   int64 \n",
      " 2   effectiveness      4143 non-null   object\n",
      " 3   sideEffects        4143 non-null   object\n",
      " 4   condition          4142 non-null   object\n",
      " 5   benefitsReview     4143 non-null   object\n",
      " 6   sideEffectsReview  4141 non-null   object\n",
      " 7   commentsReview     4135 non-null   object\n",
      " 8   text               4143 non-null   object\n",
      "dtypes: int64(1), object(8)\n",
      "memory usage: 291.4+ KB\n"
     ]
    }
   ],
   "source": [
    "df.info()"
   ]
  },
  {
   "cell_type": "code",
   "execution_count": 12,
   "id": "f74b1edf",
   "metadata": {},
   "outputs": [],
   "source": [
    "from nltk.corpus import stopwords\n",
    "from textblob import Word\n",
    "\n",
    "sw=stopwords.words(\"english\") # İngilizce stopwords kütüphanesinin okunması"
   ]
  },
  {
   "cell_type": "code",
   "execution_count": 13,
   "id": "f8ddd8de",
   "metadata": {},
   "outputs": [],
   "source": [
    "def data_cleaning(column):\n",
    "    column = column.str.lower() # Tüm metinler küçük harf formatına dönüştürülür\n",
    "    column = column.str.replace(\"[^\\w\\s]\", \"\", regex=True) # Noktalama işaretlerinin silinmesi\n",
    "    column = column.str.replace(\"\\d\", \"\", regex=True) # Sayıların silinmesi\n",
    "    column = column.apply(lambda x: \" \".join(x for x in x.split() if x not in sw)) # Stopwords kelimelerin silinmesi\n",
    "    column = column.apply(lambda x: \" \".join(Word(i).lemmatize() for i in x.split())) # Lemmatization\n",
    "    return column"
   ]
  },
  {
   "cell_type": "code",
   "execution_count": 14,
   "id": "32f160cc",
   "metadata": {},
   "outputs": [],
   "source": [
    "df.text = data_cleaning(df.text) # Veri ön işleme sürecinin yapılması"
   ]
  },
  {
   "cell_type": "code",
   "execution_count": 15,
   "id": "e51c21b7",
   "metadata": {},
   "outputs": [],
   "source": [
    "from sklearn.feature_extraction.text import TfidfVectorizer\n",
    "vectorizer = TfidfVectorizer(lowercase=False, ngram_range=(1,2)) # TF-IDF modelinin kurulumu\n",
    "X = vectorizer.fit_transform(df.text.tolist()) # TF-IDF modeli kullanılarak metinlerden vektör elde edilmesi"
   ]
  },
  {
   "cell_type": "code",
   "execution_count": 16,
   "id": "6e17db78",
   "metadata": {},
   "outputs": [],
   "source": [
    "from sklearn.model_selection import train_test_split\n",
    "X_train,X_test,y_train,y_test = train_test_split(X,df.rating, random_state=1, test_size=0.20) # Eğitim-Test bölünmesi"
   ]
  },
  {
   "cell_type": "code",
   "execution_count": 17,
   "id": "1fdd6ebc",
   "metadata": {},
   "outputs": [],
   "source": [
    "from sklearn.metrics import accuracy_score, classification_report, confusion_matrix"
   ]
  },
  {
   "cell_type": "code",
   "execution_count": 18,
   "id": "eab65068",
   "metadata": {},
   "outputs": [
    {
     "name": "stdout",
     "output_type": "stream",
     "text": [
      "Accuracy Score on traning data:  0.8931804465902233\n",
      "Accuracy Score on test data:  0.8130277442702051\n",
      "[[ 74 152]\n",
      " [  3 600]]\n",
      "              precision    recall  f1-score   support\n",
      "\n",
      "           0       0.96      0.33      0.49       226\n",
      "           1       0.80      1.00      0.89       603\n",
      "\n",
      "    accuracy                           0.81       829\n",
      "   macro avg       0.88      0.66      0.69       829\n",
      "weighted avg       0.84      0.81      0.78       829\n",
      "\n",
      "Accuracy Score:  0.8130277442702051\n"
     ]
    }
   ],
   "source": [
    "from sklearn.linear_model import LogisticRegression\n",
    "lr = LogisticRegression(random_state=1)\n",
    "model_lr = lr.fit(X_train, y_train)\n",
    "prediction_lr = model_lr.predict(X_test)\n",
    "print(\"Accuracy Score on traning data: \", lr.score(X_train, y_train))\n",
    "print(\"Accuracy Score on test data: \", lr.score(X_test, y_test))\n",
    "print(confusion_matrix(y_test, prediction_lr))\n",
    "print(classification_report(y_test, prediction_lr))\n",
    "print(\"Accuracy Score: \", accuracy_score(y_test, prediction_lr))"
   ]
  },
  {
   "cell_type": "code",
   "execution_count": 19,
   "id": "d5baa5f0",
   "metadata": {},
   "outputs": [
    {
     "name": "stdout",
     "output_type": "stream",
     "text": [
      "Accuracy Score on traning data:  0.9990947495473748\n",
      "Accuracy Score on test data:  0.9034981905910736\n",
      "[[179  47]\n",
      " [ 33 570]]\n",
      "              precision    recall  f1-score   support\n",
      "\n",
      "           0       0.84      0.79      0.82       226\n",
      "           1       0.92      0.95      0.93       603\n",
      "\n",
      "    accuracy                           0.90       829\n",
      "   macro avg       0.88      0.87      0.88       829\n",
      "weighted avg       0.90      0.90      0.90       829\n",
      "\n",
      "Accuracy Score:  0.9034981905910736\n"
     ]
    }
   ],
   "source": [
    "from sklearn.linear_model import Perceptron\n",
    "pr = Perceptron(random_state=1)\n",
    "model_pr = pr.fit(X_train, y_train)\n",
    "prediction_pr = model_pr.predict(X_test)\n",
    "print(\"Accuracy Score on traning data: \", pr.score(X_train, y_train))\n",
    "print(\"Accuracy Score on test data: \", pr.score(X_test, y_test))\n",
    "print(confusion_matrix(y_test, prediction_pr))\n",
    "print(classification_report(y_test, prediction_pr))\n",
    "print(\"Accuracy Score: \", accuracy_score(y_test, prediction_pr))"
   ]
  },
  {
   "cell_type": "code",
   "execution_count": 20,
   "id": "97425c83",
   "metadata": {},
   "outputs": [
    {
     "name": "stdout",
     "output_type": "stream",
     "text": [
      "Accuracy Score on traning data:  0.9981894990947495\n",
      "Accuracy Score on test data:  0.8854041013268998\n",
      "[[141  85]\n",
      " [ 10 593]]\n",
      "              precision    recall  f1-score   support\n",
      "\n",
      "           0       0.93      0.62      0.75       226\n",
      "           1       0.87      0.98      0.93       603\n",
      "\n",
      "    accuracy                           0.89       829\n",
      "   macro avg       0.90      0.80      0.84       829\n",
      "weighted avg       0.89      0.89      0.88       829\n",
      "\n",
      "Accuracy Score:  0.8854041013268998\n"
     ]
    }
   ],
   "source": [
    "from sklearn.linear_model import RidgeClassifier\n",
    "rc = RidgeClassifier(random_state=1)\n",
    "model_rc = rc.fit(X_train, y_train)\n",
    "prediction_rc = model_rc.predict(X_test)\n",
    "print(\"Accuracy Score on traning data: \", rc.score(X_train, y_train))\n",
    "print(\"Accuracy Score on test data: \", rc.score(X_test, y_test))\n",
    "print(confusion_matrix(y_test, prediction_rc))\n",
    "print(classification_report(y_test, prediction_rc))\n",
    "print(\"Accuracy Score: \", accuracy_score(y_test, prediction_rc))"
   ]
  },
  {
   "cell_type": "code",
   "execution_count": 21,
   "id": "f5b2fcc6",
   "metadata": {},
   "outputs": [
    {
     "name": "stdout",
     "output_type": "stream",
     "text": [
      "Accuracy Score on traning data:  0.9333132166566084\n",
      "Accuracy Score on test data:  0.9288299155609168\n",
      "[[187  39]\n",
      " [ 20 583]]\n",
      "              precision    recall  f1-score   support\n",
      "\n",
      "           0       0.90      0.83      0.86       226\n",
      "           1       0.94      0.97      0.95       603\n",
      "\n",
      "    accuracy                           0.93       829\n",
      "   macro avg       0.92      0.90      0.91       829\n",
      "weighted avg       0.93      0.93      0.93       829\n",
      "\n",
      "Accuracy Score:  0.9288299155609168\n"
     ]
    }
   ],
   "source": [
    "from sklearn.ensemble import GradientBoostingClassifier\n",
    "gbc = GradientBoostingClassifier(random_state=1)\n",
    "model_gbc = gbc.fit(X_train, y_train)\n",
    "prediction_gbc = model_gbc.predict(X_test)\n",
    "print(\"Accuracy Score on traning data: \", gbc.score(X_train, y_train))\n",
    "print(\"Accuracy Score on test data: \", gbc.score(X_test, y_test))\n",
    "print(confusion_matrix(y_test, prediction_gbc))\n",
    "print(classification_report(y_test, prediction_gbc))\n",
    "print(\"Accuracy Score: \", accuracy_score(y_test, prediction_gbc))"
   ]
  },
  {
   "cell_type": "code",
   "execution_count": 22,
   "id": "e1554b6d",
   "metadata": {},
   "outputs": [
    {
     "name": "stdout",
     "output_type": "stream",
     "text": [
      "Accuracy Score on traning data:  0.9197344598672299\n",
      "Accuracy Score on test data:  0.9119420989143546\n",
      "[[180  46]\n",
      " [ 27 576]]\n",
      "              precision    recall  f1-score   support\n",
      "\n",
      "           0       0.87      0.80      0.83       226\n",
      "           1       0.93      0.96      0.94       603\n",
      "\n",
      "    accuracy                           0.91       829\n",
      "   macro avg       0.90      0.88      0.89       829\n",
      "weighted avg       0.91      0.91      0.91       829\n",
      "\n",
      "Accuracy Score:  0.9119420989143546\n"
     ]
    }
   ],
   "source": [
    "from sklearn.ensemble import AdaBoostClassifier\n",
    "ada = AdaBoostClassifier(random_state=1)\n",
    "model_ada = ada.fit(X_train, y_train)\n",
    "prediction_ada = model_ada.predict(X_test)\n",
    "print(\"Accuracy Score on traning data: \", ada.score(X_train, y_train))\n",
    "print(\"Accuracy Score on test data: \", ada.score(X_test, y_test))\n",
    "print(confusion_matrix(y_test, prediction_ada))\n",
    "print(classification_report(y_test, prediction_ada))\n",
    "print(\"Accuracy Score: \", accuracy_score(y_test, prediction_ada))"
   ]
  },
  {
   "cell_type": "code",
   "execution_count": 23,
   "id": "43d5413e",
   "metadata": {},
   "outputs": [
    {
     "name": "stdout",
     "output_type": "stream",
     "text": [
      "Accuracy Score on traning data:  0.9882317441158721\n",
      "Accuracy Score on test data:  0.9252110977080821\n",
      "[[190  36]\n",
      " [ 26 577]]\n",
      "              precision    recall  f1-score   support\n",
      "\n",
      "           0       0.88      0.84      0.86       226\n",
      "           1       0.94      0.96      0.95       603\n",
      "\n",
      "    accuracy                           0.93       829\n",
      "   macro avg       0.91      0.90      0.90       829\n",
      "weighted avg       0.92      0.93      0.92       829\n",
      "\n",
      "Accuracy Score:  0.9252110977080821\n"
     ]
    }
   ],
   "source": [
    "from sklearn.ensemble import BaggingClassifier\n",
    "bc = BaggingClassifier(random_state=1)\n",
    "model_bc = bc.fit(X_train, y_train)\n",
    "prediction_bc = model_bc.predict(X_test)\n",
    "print(\"Accuracy Score on traning data: \", bc.score(X_train, y_train))\n",
    "print(\"Accuracy Score on test data: \", bc.score(X_test, y_test))\n",
    "print(confusion_matrix(y_test, prediction_bc))\n",
    "print(classification_report(y_test, prediction_bc))\n",
    "print(\"Accuracy Score: \", accuracy_score(y_test, prediction_bc))"
   ]
  }
 ],
 "metadata": {
  "kernelspec": {
   "display_name": "Python 3 (ipykernel)",
   "language": "python",
   "name": "python3"
  },
  "language_info": {
   "codemirror_mode": {
    "name": "ipython",
    "version": 3
   },
   "file_extension": ".py",
   "mimetype": "text/x-python",
   "name": "python",
   "nbconvert_exporter": "python",
   "pygments_lexer": "ipython3",
   "version": "3.9.7"
  }
 },
 "nbformat": 4,
 "nbformat_minor": 5
}
